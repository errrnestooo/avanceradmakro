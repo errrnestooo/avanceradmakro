{
 "cells": [
  {
   "cell_type": "markdown",
   "id": "prompt-distinction",
   "metadata": {
    "toc": true
   },
   "source": [
    "<h1>Table of Contents<span class=\"tocSkip\"></span></h1>\n",
    "<div class=\"toc\"><ul class=\"toc-item\"><li><span><a href=\"#Variables-and-type\" data-toc-modified-id=\"Variables-and-type-1\"><span class=\"toc-item-num\">1&nbsp;&nbsp;</span>Variables and type</a></span></li><li><span><a href=\"#Lists\" data-toc-modified-id=\"Lists-2\"><span class=\"toc-item-num\">2&nbsp;&nbsp;</span>Lists</a></span></li><li><span><a href=\"#Functions\" data-toc-modified-id=\"Functions-3\"><span class=\"toc-item-num\">3&nbsp;&nbsp;</span>Functions</a></span></li><li><span><a href=\"#NumPy\" data-toc-modified-id=\"NumPy-4\"><span class=\"toc-item-num\">4&nbsp;&nbsp;</span>NumPy</a></span></li><li><span><a href=\"#SciPy\" data-toc-modified-id=\"SciPy-5\"><span class=\"toc-item-num\">5&nbsp;&nbsp;</span>SciPy</a></span></li><li><span><a href=\"#Conditioning-tasks\" data-toc-modified-id=\"Conditioning-tasks-6\"><span class=\"toc-item-num\">6&nbsp;&nbsp;</span>Conditioning tasks</a></span></li><li><span><a href=\"#Loops\" data-toc-modified-id=\"Loops-7\"><span class=\"toc-item-num\">7&nbsp;&nbsp;</span>Loops</a></span></li><li><span><a href=\"#Graphics-with-MATPLOTLIB\" data-toc-modified-id=\"Graphics-with-MATPLOTLIB-8\"><span class=\"toc-item-num\">8&nbsp;&nbsp;</span>Graphics with MATPLOTLIB</a></span></li></ul></div>"
   ]
  },
  {
   "cell_type": "markdown",
   "id": "domestic-cardiff",
   "metadata": {},
   "source": [
    "**Elementary Python**. Key learning points:\n",
    "\n",
    "* Types: ``float``, ``int``, ``str``, ``bool``\n",
    "\n",
    "* Functions: ``def`` and ``lambda``\n",
    "\n",
    "* Python ``list``s and ``dict``ionaries\n",
    "\n",
    "* ``NumPy`` ``array``s and functions\n",
    "\n",
    "* Indexing and slicing lists or arrays\n",
    "\n",
    "* ``SciPy`` \n",
    "\n",
    "* Conditional statements\n",
    "\n",
    "* Loops\n",
    "\n",
    "* ``MATPLOTLIB`` plotting\n",
    "\n"
   ]
  },
  {
   "cell_type": "markdown",
   "id": "developmental-membership",
   "metadata": {},
   "source": [
    "# Variables and type"
   ]
  },
  {
   "cell_type": "markdown",
   "id": "sound-baseline",
   "metadata": {},
   "source": [
    "**Exercise**.\n",
    "\n",
    "1. Separately input two numbers, ``x = 2.0`` and ``y = 2``, and verify their variable type.\n",
    "\n",
    "2. What is the variable type of ``x = 'Burung Hantu'``?\n",
    "\n",
    "3. What is the variable type of ``x = True`` and ``y=False``?\n",
    "\n",
    "4. Make up an example of string variable."
   ]
  },
  {
   "cell_type": "code",
   "execution_count": null,
   "id": "serial-confirmation",
   "metadata": {},
   "outputs": [],
   "source": []
  },
  {
   "cell_type": "markdown",
   "id": "centered-electric",
   "metadata": {},
   "source": [
    "# Lists"
   ]
  },
  {
   "cell_type": "markdown",
   "id": "spiritual-success",
   "metadata": {},
   "source": [
    "Lists are useful Python constructs for collecting other objects. For example, here's a list:"
   ]
  },
  {
   "cell_type": "code",
   "execution_count": 16,
   "id": "sporting-reviewer",
   "metadata": {},
   "outputs": [
    {
     "name": "stdout",
     "output_type": "stream",
     "text": [
      "[1.2, 4.5, 6.7, 'Hello']\n"
     ]
    }
   ],
   "source": [
    "A = [1.2, 4.5, 6.7, 'Hello']\n",
    "print(A)"
   ]
  },
  {
   "cell_type": "markdown",
   "id": "scheduled-revision",
   "metadata": {},
   "source": [
    "We could also do this:"
   ]
  },
  {
   "cell_type": "code",
   "execution_count": 15,
   "id": "temporal-child",
   "metadata": {
    "scrolled": true
   },
   "outputs": [
    {
     "name": "stdout",
     "output_type": "stream",
     "text": [
      "[1.2, 4.5, 6.7, 'Hello']\n"
     ]
    }
   ],
   "source": [
    "B = list([1.2, 4.5, 6.7, 'Hello'])\n",
    "print(B)"
   ]
  },
  {
   "cell_type": "markdown",
   "id": "logical-facial",
   "metadata": {},
   "source": [
    "# Functions"
   ]
  },
  {
   "cell_type": "markdown",
   "id": "dying-heart",
   "metadata": {},
   "source": [
    "A function is like what we're used to in math. \n",
    "\n",
    "It is a mapping from something to something else:\n",
    "\\begin{equation}\n",
    "    f: X \\rightarrow Y.\n",
    "\\end{equation}\n",
    "\n",
    "Or, sometimes this is abbreviated as \n",
    "\\begin{equation}\n",
    "    x \\mapsto f(x)\n",
    "\\end{equation}\n",
    "where $x \\in X$ and $f(x) \\in Y$."
   ]
  },
  {
   "cell_type": "markdown",
   "id": "minus-nightmare",
   "metadata": {},
   "source": [
    "Likewise, in computer coding, we often use functions to collect an operation that maps some input(s) into some output(s).\n",
    "\n",
    "We have already seen two examples above, when we invoked Python's in-built functions called ``type`` and ``print``.\n",
    "\n",
    "Here's another example, using one of many Python's built-in functions:"
   ]
  },
  {
   "cell_type": "code",
   "execution_count": 19,
   "id": "restricted-stroke",
   "metadata": {},
   "outputs": [
    {
     "data": {
      "text/plain": [
       "True"
      ]
     },
     "execution_count": 19,
     "metadata": {},
     "output_type": "execute_result"
    }
   ],
   "source": [
    "# Create a list of Boolean variables\n",
    "C = [True, True, False, True, False]\n",
    "\n",
    "# Check if all elements of list C are True\n",
    "any(C)"
   ]
  },
  {
   "cell_type": "markdown",
   "id": "cathedral-reform",
   "metadata": {},
   "source": [
    "The input is list ``C``. The output is a Boolean outcome: ``True`` if all elements of ``C`` are ``True``, and, ``False`` otherwise."
   ]
  },
  {
   "cell_type": "markdown",
   "id": "roman-gateway",
   "metadata": {},
   "source": [
    "**Exercise**."
   ]
  },
  {
   "cell_type": "markdown",
   "id": "destroyed-pulse",
   "metadata": {},
   "source": [
    "1. Why might writing functions might be useful?\n",
    "\n",
    "2. Use the list ``C`` above. What does the function ``all`` do, and what would you get if evaluated ``all`` at ``C``?\n",
    "\n",
    "3. Construct an example our your own hand-rolled function."
   ]
  },
  {
   "cell_type": "markdown",
   "id": "operating-ballet",
   "metadata": {},
   "source": [
    "# NumPy"
   ]
  },
  {
   "cell_type": "markdown",
   "id": "secret-opening",
   "metadata": {},
   "source": [
    "Here's a useful library for scientific computing. \n",
    "\n",
    "You can work with matrices (arrays), linear algebra operations, basic function interpolation and other math-y things with it."
   ]
  },
  {
   "cell_type": "markdown",
   "id": "challenging-credit",
   "metadata": {},
   "source": [
    "**Exercise**. \n",
    "\n",
    "Import NumPy into your memory space using ``import numpy as np``.\n",
    "\n",
    "1. What is the cosine of $x = \\pi$? Verify this using NumPy.\n",
    "\n",
    "2. Create an example of a row vector or array of floats (real numbers) with 10 elements in it. Print out its first element. Print out its last element. Print out a sub-array spanning its third to sixth element.\n",
    "\n",
    "3. Create a NumPy array for a $2 \\times 2$ identity matrix, using the ``array`` function attribute in numpy. (Hint: you'll need to go ``np.array()``.)\n",
    "\n",
    "4. Repeat the last task using NumPy's in-built function called ``eye``.\n",
    "\n",
    "5. Use ``array_equal`` in NumPy to test if the results from the last two parts are identical.\n",
    "\n",
    "6. Generate a grid of $N = 10$ uniformly spaced numbers between (and including) $0$ and $2\\pi$ (that's measured in radians). Use NumPy's in-built ``linspace`` function. \n",
    "\n"
   ]
  },
  {
   "cell_type": "code",
   "execution_count": null,
   "id": "dirty-reader",
   "metadata": {},
   "outputs": [],
   "source": []
  },
  {
   "cell_type": "markdown",
   "id": "strong-behalf",
   "metadata": {},
   "source": [
    "**Exercise**.\n",
    "\n",
    "Use the NumPy library.\n",
    "\n",
    "1. Generate a grid of $N = 10$ uniformly spaced numbers between (and including) $0$ and $2\\pi$ (that's measured in radians). Call this grid ``x``. Then evaluate the sine function over this grid and store the output as an array ``y``.\n",
    "\n",
    "2. Use NumPy's function ``interp`` to interpolate the graph of your finite data pairs ``x`` and ``y``, over this array, $x' = (0.34, 3.25, 5.78, 6.1)$. Denote the linearly interpolated values as the array $y'$. Also, evaluate these numbers directly using the sine function formula. Tabulate the interpolated values $y'$ against the direct values from the sine function $y''=\\sin(x')$.\n",
    "\n",
    "3. What do you think will happen if $N = 50$? Or if $N=150$? Discuss."
   ]
  },
  {
   "cell_type": "code",
   "execution_count": null,
   "id": "comparable-monitor",
   "metadata": {},
   "outputs": [],
   "source": []
  },
  {
   "cell_type": "markdown",
   "id": "unsigned-saturday",
   "metadata": {},
   "source": [
    "# SciPy"
   ]
  },
  {
   "cell_type": "markdown",
   "id": "cooked-change",
   "metadata": {},
   "source": [
    "Another scientific computing library is SciPy. We'll come back to this later in the course. If you're keen [look it up here](https://scipy-lectures.org/)."
   ]
  },
  {
   "cell_type": "markdown",
   "id": "valuable-production",
   "metadata": {},
   "source": [
    "# Conditioning tasks"
   ]
  },
  {
   "cell_type": "markdown",
   "id": "discrete-value",
   "metadata": {},
   "source": [
    "Sometimes when executing an operation, the outcome may depend on some state. How do we deal with a conditional task?"
   ]
  },
  {
   "cell_type": "markdown",
   "id": "ready-intent",
   "metadata": {},
   "source": [
    "In Python, we use the syntax ``if``, ``elif`` and/or ``else``, to do the job."
   ]
  },
  {
   "cell_type": "markdown",
   "id": "honest-validation",
   "metadata": {},
   "source": [
    "**Exercise**.\n",
    "\n",
    "Code up a messaging function. Call it ``maurice``.\n",
    "\n",
    "The function ``maurice`` takes a string input called ``weather`` which admits three states: ``sunny``, ``cloudy`` or ``rainy``. It returns: \"Go out on a date by the beach\" if ``weather`` equals *sunny*. If ``weather`` equals *cloudy*, the function says \"Eat a pack of El Sabor de Soledad\". Otherwise it tells you \"Stay home and watch reruns of Gossip Girl\"."
   ]
  },
  {
   "cell_type": "markdown",
   "id": "alleged-yellow",
   "metadata": {},
   "source": [
    "**Exercise**.\n",
    "\n",
    "Code up the function\n",
    "\\begin{equation}\n",
    "    y = \n",
    "    \\begin{cases}\n",
    "        2x,     & x < \\frac{1}{2}\n",
    "        \\\\\n",
    "        2(1-x), & x \\geq \\frac{1}{2}\n",
    "    \\end{cases}\n",
    "\\end{equation}\n",
    "and call the function as ``tent``.\n",
    "\n",
    "Evaluate ``tent`` at\n",
    "\n",
    "1. $x = 0.2$\n",
    "\n",
    "2. $x = 0.51$"
   ]
  },
  {
   "cell_type": "markdown",
   "id": "respiratory-orbit",
   "metadata": {},
   "source": [
    "# Loops"
   ]
  },
  {
   "cell_type": "markdown",
   "id": "utility-upgrade",
   "metadata": {},
   "source": [
    "Some times we need to do repeated tasks. That's where the trick of looping and using functions come in handy."
   ]
  },
  {
   "cell_type": "markdown",
   "id": "impressive-thomson",
   "metadata": {},
   "source": [
    "**Exercise**.\n",
    "\n",
    "Revisit the weather exercise from the last section. Now you want to print to screen a series of messages from ``maurice`` associated with a list of daily weather observations. Suppose this input list is:"
   ]
  },
  {
   "cell_type": "code",
   "execution_count": 28,
   "id": "equivalent-george",
   "metadata": {},
   "outputs": [],
   "source": [
    "weather_list = ['sunny', 'rainy', 'rainy', 'sunny', 'cloudy', 'rainy', 'rainy', 'cloudy']"
   ]
  },
  {
   "cell_type": "markdown",
   "id": "covered-liabilities",
   "metadata": {},
   "source": [
    "Can you design and run a loop to display the corresponding messages from ``maurice``?"
   ]
  },
  {
   "cell_type": "markdown",
   "id": "handed-force",
   "metadata": {},
   "source": [
    "**Exercise**.\n",
    "\n",
    "Recall the tent map function? Now, let's think of this as a recurrence relation:\n",
    "\\begin{equation}\n",
    "    x_{t+1} = \n",
    "    \\begin{cases}\n",
    "        2x_{t},     & x_{t} < \\frac{1}{2}\n",
    "        \\\\\n",
    "        2(1-x_{t}), & x_{t} \\geq \\frac{1}{2}\n",
    "    \\end{cases}\n",
    "\\end{equation}"
   ]
  },
  {
   "cell_type": "markdown",
   "id": "modular-criterion",
   "metadata": {},
   "source": [
    "Write a loop to generate 20 outcomes of the state of this recurrence map, including its initial state $x_0 = 0.1$. Print the result to screen."
   ]
  },
  {
   "cell_type": "markdown",
   "id": "martial-creativity",
   "metadata": {},
   "source": [
    "# Graphics with MATPLOTLIB"
   ]
  },
  {
   "cell_type": "markdown",
   "id": "gorgeous-heath",
   "metadata": {},
   "source": [
    "The Matplotlib library is very well designed. Users of MATLAB might notice some similarities in its syntax. \n",
    "\n",
    "Now, how are we to remember all the tricks and syntax?\n",
    "\n",
    "Here's a [useful site with a collection of examples](https://matplotlib.org/stable/index.html) to insipre your own work."
   ]
  },
  {
   "cell_type": "markdown",
   "id": "concrete-academy",
   "metadata": {},
   "source": [
    "**Exercise**.\n",
    "\n",
    "Revisit the sine function interpolation problem from Section 4 (last exercise). Can you plot the results you obtained there. Discuss the quality of the linear interpolation scheme and how that depends on $N$. \n",
    "\n"
   ]
  },
  {
   "cell_type": "code",
   "execution_count": null,
   "id": "terminal-construction",
   "metadata": {},
   "outputs": [],
   "source": []
  },
  {
   "cell_type": "markdown",
   "id": "demonstrated-oliver",
   "metadata": {},
   "source": [
    "**Exercise**.\n",
    "\n",
    "Redo the last tent-map exercise. Now, while you loop over the function ``tent``, plot the coordinate $(x_t, x_{t+1})$ at each loop index $t = 0,1,2,...$."
   ]
  },
  {
   "cell_type": "code",
   "execution_count": null,
   "id": "young-petroleum",
   "metadata": {},
   "outputs": [],
   "source": []
  },
  {
   "cell_type": "markdown",
   "id": "received-literature",
   "metadata": {},
   "source": [
    "**Homework**.\n",
    "\n",
    "See if you can do a live, animated version of the last plot!"
   ]
  },
  {
   "cell_type": "code",
   "execution_count": null,
   "id": "oriented-birthday",
   "metadata": {},
   "outputs": [],
   "source": []
  }
 ],
 "metadata": {
  "kernelspec": {
   "display_name": "Python 3",
   "language": "python",
   "name": "python3"
  },
  "language_info": {
   "codemirror_mode": {
    "name": "ipython",
    "version": 3
   },
   "file_extension": ".py",
   "mimetype": "text/x-python",
   "name": "python",
   "nbconvert_exporter": "python",
   "pygments_lexer": "ipython3",
   "version": "3.6.12"
  },
  "latex_envs": {
   "LaTeX_envs_menu_present": true,
   "autoclose": false,
   "autocomplete": true,
   "bibliofile": "biblio.bib",
   "cite_by": "apalike",
   "current_citInitial": 1,
   "eqLabelWithNumbers": true,
   "eqNumInitial": 1,
   "hotkeys": {
    "equation": "Ctrl-E",
    "itemize": "Ctrl-I"
   },
   "labels_anchors": false,
   "latex_user_defs": false,
   "report_style_numbering": false,
   "user_envs_cfg": false
  },
  "toc": {
   "base_numbering": 1,
   "nav_menu": {},
   "number_sections": true,
   "sideBar": true,
   "skip_h1_title": false,
   "title_cell": "Table of Contents",
   "title_sidebar": "Contents",
   "toc_cell": true,
   "toc_position": {
    "height": "721px",
    "left": "10px",
    "top": "150px",
    "width": "221.594px"
   },
   "toc_section_display": true,
   "toc_window_display": true
  }
 },
 "nbformat": 4,
 "nbformat_minor": 5
}
